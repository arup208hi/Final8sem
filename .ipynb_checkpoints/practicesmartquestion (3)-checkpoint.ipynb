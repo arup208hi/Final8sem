{
 "cells": [
  {
   "cell_type": "code",
   "execution_count": 1,
   "id": "796daa91",
   "metadata": {},
   "outputs": [],
   "source": [
    "import pandas as pd\n",
    "import numpy as np\n",
    "import random\n",
    "\n"
   ]
  },
  {
   "cell_type": "code",
   "execution_count": 2,
   "id": "6efda6c0",
   "metadata": {},
   "outputs": [
    {
     "ename": "ModuleNotFoundError",
     "evalue": "No module named 'fpdf'",
     "output_type": "error",
     "traceback": [
      "\u001b[1;31m---------------------------------------------------------------------------\u001b[0m",
      "\u001b[1;31mModuleNotFoundError\u001b[0m                       Traceback (most recent call last)",
      "\u001b[1;32m~\\AppData\\Local\\Temp/ipykernel_17308/7171122.py\u001b[0m in \u001b[0;36m<module>\u001b[1;34m\u001b[0m\n\u001b[1;32m----> 1\u001b[1;33m \u001b[1;32mfrom\u001b[0m \u001b[0mfpdf\u001b[0m \u001b[1;32mimport\u001b[0m \u001b[0mFPDF\u001b[0m\u001b[1;33m\u001b[0m\u001b[1;33m\u001b[0m\u001b[0m\n\u001b[0m",
      "\u001b[1;31mModuleNotFoundError\u001b[0m: No module named 'fpdf'"
     ]
    }
   ],
   "source": [
    "from fpdf import FPDF\n"
   ]
  },
  {
   "cell_type": "code",
   "execution_count": 4,
   "id": "3d7366d4",
   "metadata": {},
   "outputs": [],
   "source": [
    "import pymongo\n",
    "from pymongo import MongoClient\n",
    "\n",
    "\n",
    "\n",
    "\n"
   ]
  },
  {
   "cell_type": "code",
   "execution_count": 5,
   "id": "854c2449",
   "metadata": {},
   "outputs": [
    {
     "name": "stdout",
     "output_type": "stream",
     "text": [
      "{'_id': ObjectId('62f8b82e3ab1b1ef1349f8e4'), 'Name of the Program': 'CSE', 'Paper Title': 'Switching Circuit and Logic Design', 'Paper Code': 'CSE11004', 'Semester': 'III', 'Question': 'The output of an EX-NOR gate is 1. Which input combination is correct? a) A = 1, B = 0 b) A = 0, B = 1 c) A = 0, B = 0 d) A = 0, B� = 1.', 'Course Outcome': '1', 'Marks': '1'}\n",
      "{'_id': ObjectId('62f8b82e3ab1b1ef1349f8e5'), 'Name of the Program': 'CSE', 'Paper Title': 'Switching Circuit and Logic Design', 'Paper Code': 'CSE11004', 'Semester': 'III', 'Question': 'The expression for Absorption law is given by: a) A + AB = A b) A + AB = B c) AB + AA� = A d) A + B = B + A', 'Course Outcome': '2', 'Marks': '1'}\n",
      "{'_id': ObjectId('62f8b82e3ab1b1ef1349f8e6'), 'Name of the Program': 'CSE', 'Paper Title': 'Switching Circuit and Logic Design', 'Paper Code': 'CSE11004', 'Semester': 'III', 'Question': 'A variable on its own or in its complemented form is known as: a) Product Term b) Literal c) Sum Term d) Word', 'Course Outcome': '3', 'Marks': '1'}\n",
      "{'_id': ObjectId('62f8b82e3ab1b1ef1349f8e7'), 'Name of the Program': 'CSE', 'Paper Title': 'Switching Circuit and Logic Design', 'Paper Code': 'CSE11004', 'Semester': 'III', 'Question': '3 bits full adder contains a)3 combinational inputs b) 4 combinational inputs c)6 combinational inputs d) 8 combinational inputs', 'Course Outcome': '3', 'Marks': '1'}\n",
      "{'_id': ObjectId('62f8b82e3ab1b1ef1349f8e8'), 'Name of the Program': 'CSE', 'Paper Title': 'Switching Circuit and Logic Design', 'Paper Code': 'CSE11004', 'Semester': 'III', 'Question': 'Which of the following is not a sequential circuit? 1)Flip-Flop 2)Counter 3)Shift register 4)Multiplexer', 'Course Outcome': '2', 'Marks': '1'}\n",
      "{'_id': ObjectId('62f8b82e3ab1b1ef1349f8e9'), 'Name of the Program': 'CSE', 'Paper Title': 'Switching Circuit and Logic Design', 'Paper Code': 'CSE11004', 'Semester': 'III', 'Question': 'Give the classification of logic families.', 'Course Outcome': '1', 'Marks': '2'}\n",
      "{'_id': ObjectId('62f8b82e3ab1b1ef1349f8ea'), 'Name of the Program': 'CSE', 'Paper Title': 'Switching Circuit and Logic Design', 'Paper Code': 'CSE11004', 'Semester': 'III', 'Question': 'Define Fan-out?', 'Course Outcome': '1', 'Marks': '2'}\n",
      "{'_id': ObjectId('62f8b82e3ab1b1ef1349f8eb'), 'Name of the Program': 'CSE', 'Paper Title': 'Switching Circuit and Logic Design', 'Paper Code': 'CSE11004', 'Semester': 'III', 'Question': 'What is propagation delay?', 'Course Outcome': '2', 'Marks': '2'}\n",
      "{'_id': ObjectId('62f8b82e3ab1b1ef1349f8ec'), 'Name of the Program': 'CSE', 'Paper Title': 'Switching Circuit and Logic Design', 'Paper Code': 'CSE11004', 'Semester': 'III', 'Question': 'State the distributive property of Boolean algebra.', 'Course Outcome': '3', 'Marks': '2'}\n",
      "{'_id': ObjectId('62f8b82e3ab1b1ef1349f8ed'), 'Name of the Program': 'CSE', 'Paper Title': 'Switching Circuit and Logic Design', 'Paper Code': 'CSE11004', 'Semester': 'III', 'Question': \"State De Morgan's theorem.\", 'Course Outcome': '3', 'Marks': '2'}\n",
      "{'_id': ObjectId('62f8b82e3ab1b1ef1349f8ee'), 'Name of the Program': 'CSE', 'Paper Title': 'Switching Circuit and Logic Design', 'Paper Code': 'CSE11004', 'Semester': 'III', 'Question': 'Explain the process of converting SOP to SSOP and POS to SPOS.', 'Course Outcome': '2', 'Marks': '5'}\n",
      "{'_id': ObjectId('62f8b82e3ab1b1ef1349f8ef'), 'Name of the Program': 'CSE', 'Paper Title': 'Switching Circuit and Logic Design', 'Paper Code': 'CSE11004', 'Semester': 'III', 'Question': 'Explain the method of Boolean expression minimization using K MAP for 3-variable.', 'Course Outcome': '1', 'Marks': '5'}\n",
      "{'_id': ObjectId('62f8b82e3ab1b1ef1349f8f0'), 'Name of the Program': 'CSE', 'Paper Title': 'Switching Circuit and Logic Design', 'Paper Code': 'CSE11004', 'Semester': 'III', 'Question': 'Explain the major properties of Boolean algebra ', 'Course Outcome': '1', 'Marks': '5'}\n",
      "{'_id': ObjectId('62f8b82e3ab1b1ef1349f8f1'), 'Name of the Program': 'CSE', 'Paper Title': 'Switching Circuit and Logic Design', 'Paper Code': 'CSE11004', 'Semester': 'III', 'Question': 'Classify the logic families based on its operation', 'Course Outcome': '3', 'Marks': '5'}\n",
      "{'_id': ObjectId('62f8b82e3ab1b1ef1349f8f2'), 'Name of the Program': 'CSE', 'Paper Title': 'Switching Circuit and Logic Design', 'Paper Code': 'CSE11004', 'Semester': 'III', 'Question': 'Discuss the classifications of FET devices.', 'Course Outcome': '2', 'Marks': '5'}\n"
     ]
    }
   ],
   "source": [
    "connection = MongoClient('localhost', 27017)\n",
    "# Database Name\n",
    "db = connection[\"qbank\"]\n",
    " \n",
    "# Collection Name\n",
    "col = db[\"qbank1\"]\n",
    "x = col.find()\n",
    " \n",
    "for data in x:\n",
    "    print(data)"
   ]
  },
  {
   "cell_type": "code",
   "execution_count": 6,
   "id": "e14f750e",
   "metadata": {},
   "outputs": [
    {
     "data": {
      "text/plain": [
       "<bound method DataFrame.drop of                          _id Name of the Program  \\\n",
       "0   62f8b82e3ab1b1ef1349f8e4                 CSE   \n",
       "1   62f8b82e3ab1b1ef1349f8e5                 CSE   \n",
       "2   62f8b82e3ab1b1ef1349f8e6                 CSE   \n",
       "3   62f8b82e3ab1b1ef1349f8e7                 CSE   \n",
       "4   62f8b82e3ab1b1ef1349f8e8                 CSE   \n",
       "5   62f8b82e3ab1b1ef1349f8e9                 CSE   \n",
       "6   62f8b82e3ab1b1ef1349f8ea                 CSE   \n",
       "7   62f8b82e3ab1b1ef1349f8eb                 CSE   \n",
       "8   62f8b82e3ab1b1ef1349f8ec                 CSE   \n",
       "9   62f8b82e3ab1b1ef1349f8ed                 CSE   \n",
       "10  62f8b82e3ab1b1ef1349f8ee                 CSE   \n",
       "11  62f8b82e3ab1b1ef1349f8ef                 CSE   \n",
       "12  62f8b82e3ab1b1ef1349f8f0                 CSE   \n",
       "13  62f8b82e3ab1b1ef1349f8f1                 CSE   \n",
       "14  62f8b82e3ab1b1ef1349f8f2                 CSE   \n",
       "\n",
       "                           Paper Title Paper Code Semester  \\\n",
       "0   Switching Circuit and Logic Design   CSE11004      III   \n",
       "1   Switching Circuit and Logic Design   CSE11004      III   \n",
       "2   Switching Circuit and Logic Design   CSE11004      III   \n",
       "3   Switching Circuit and Logic Design   CSE11004      III   \n",
       "4   Switching Circuit and Logic Design   CSE11004      III   \n",
       "5   Switching Circuit and Logic Design   CSE11004      III   \n",
       "6   Switching Circuit and Logic Design   CSE11004      III   \n",
       "7   Switching Circuit and Logic Design   CSE11004      III   \n",
       "8   Switching Circuit and Logic Design   CSE11004      III   \n",
       "9   Switching Circuit and Logic Design   CSE11004      III   \n",
       "10  Switching Circuit and Logic Design   CSE11004      III   \n",
       "11  Switching Circuit and Logic Design   CSE11004      III   \n",
       "12  Switching Circuit and Logic Design   CSE11004      III   \n",
       "13  Switching Circuit and Logic Design   CSE11004      III   \n",
       "14  Switching Circuit and Logic Design   CSE11004      III   \n",
       "\n",
       "                                             Question Course Outcome Marks  \n",
       "0   The output of an EX-NOR gate is 1. Which input...              1     1  \n",
       "1   The expression for Absorption law is given by:...              2     1  \n",
       "2   A variable on its own or in its complemented f...              3     1  \n",
       "3   3 bits full adder contains a)3 combinational i...              3     1  \n",
       "4   Which of the following is not a sequential cir...              2     1  \n",
       "5          Give the classification of logic families.              1     2  \n",
       "6                                     Define Fan-out?              1     2  \n",
       "7                          What is propagation delay?              2     2  \n",
       "8   State the distributive property of Boolean alg...              3     2  \n",
       "9                          State De Morgan's theorem.              3     2  \n",
       "10  Explain the process of converting SOP to SSOP ...              2     5  \n",
       "11  Explain the method of Boolean expression minim...              1     5  \n",
       "12   Explain the major properties of Boolean algebra               1     5  \n",
       "13  Classify the logic families based on its opera...              3     5  \n",
       "14        Discuss the classifications of FET devices.              2     5  >"
      ]
     },
     "execution_count": 6,
     "metadata": {},
     "output_type": "execute_result"
    }
   ],
   "source": [
    "df=pd.DataFrame(list(col.find()))\n",
    "df.drop"
   ]
  },
  {
   "cell_type": "code",
   "execution_count": 7,
   "id": "c7c92f65",
   "metadata": {},
   "outputs": [],
   "source": [
    "df1=df.groupby('Marks')\n",
    "df1.get_group(\"5\")\n",
    "df69=pd.DataFrame()\n",
    "\n"
   ]
  },
  {
   "cell_type": "code",
   "execution_count": 8,
   "id": "22105df8",
   "metadata": {
    "scrolled": true
   },
   "outputs": [
    {
     "data": {
      "text/plain": [
       "str"
      ]
     },
     "execution_count": 8,
     "metadata": {},
     "output_type": "execute_result"
    }
   ],
   "source": [
    "l=[\"5\",\"1\"]\n",
    "for i in l:\n",
    "    \n",
    "    \n",
    "    df2=(df1.get_group(i))\n",
    "    \n",
    "    \n",
    "    \n",
    "    df2=df2.drop(['_id','Paper Code','Paper Title','Name of the Program','Semester'],axis=1)\n",
    "    df69=df69.append(df2,ignore_index=True)\n",
    "    \n",
    "    \n",
    "    \n",
    "    \n",
    "    \n",
    "    df3=df2['Question'].tolist()\n",
    "   \n",
    "    \n",
    "    if i==\"1\":\n",
    "        df44=random.sample(df3,5)\n",
    "        \n",
    "        \n",
    "    elif i==\"5\":    \n",
    "        df55=random.sample(df3,3)\n",
    "        \n",
    "df66=''\n",
    "q=''\n",
    "co=''\n",
    "d=1\n",
    "f=1\n",
    "\n",
    "\n",
    "for i in df44:\n",
    "    df88=df2.loc[df2['Question']==i]\n",
    "    q=df88['Course Outcome'].tolist()\n",
    "    co=df88['Marks'].tolist()\n",
    "    df66+=(str(d)+'> '+i)+'           '+str(q)+'           '+str(co)+\"\\n\"\n",
    "    d+=1\n",
    "df66+='-----------------------------------------------------------------------------------------------------------'\n",
    "q1=''\n",
    "co1=''\n",
    "for i in df55:\n",
    "    df89=df69.loc[df69['Question']==i]\n",
    "    q1=df89['Course Outcome'].tolist()\n",
    "    \n",
    "    co1=df89['Marks'].tolist()\n",
    "    df66+=(str(d)+'> '+i)+'           '+'['+str(q1[0])+']'+'           '+'['+str(co1[0])+']'+\"\\n\"\n",
    "    d+=1\n",
    "df66+='--------------------------------------------------------------------------------------------------------------'\n",
    "type(df66)\n",
    "    \n",
    " \n",
    "    \n",
    "\n",
    "\n",
    "\n",
    "\n",
    "        \n",
    "\n",
    "    \n"
   ]
  },
  {
   "cell_type": "code",
   "execution_count": 9,
   "id": "660ed159",
   "metadata": {},
   "outputs": [],
   "source": [
    "text_file=open(r\"C:\\Users\\dasar\\Desktop\\College project\\Question paper generator\\Final(8th sem)\\Generate paper\\real1.txt\",\"w\",encoding=\"utf-8\")\n",
    "n=text_file.write(df66)\n",
    "text_file.close()"
   ]
  },
  {
   "cell_type": "code",
   "execution_count": 10,
   "id": "d697c33b",
   "metadata": {},
   "outputs": [
    {
     "data": {
      "text/plain": [
       "''"
      ]
     },
     "execution_count": 10,
     "metadata": {},
     "output_type": "execute_result"
    }
   ],
   "source": [
    "from fpdf import FPDF\n",
    "pdf=FPDF()\n",
    "pdf.add_page()\n",
    "pdf.set_font('Arial',size=15)\n",
    "pdf.cell(200,10,txt=\"Mid sem question paper\",ln=1,align='C')\n",
    "\n",
    "f=open(r\"C:\\Users\\dasar\\Desktop\\College project\\Question paper generator\\Final(8th sem)\\Generate paper\\real1.txt\",\"r\",encoding=\"latin-1\")\n",
    "\n",
    "for x in f:\n",
    "    pdf.cell(200,10,txt=x,ln=2,align=\"C\")\n",
    "\n",
    "pdf.output(\"midsem2.pdf\")"
   ]
  },
  {
   "cell_type": "code",
   "execution_count": null,
   "id": "9478b0a8",
   "metadata": {},
   "outputs": [],
   "source": []
  }
 ],
 "metadata": {
  "kernelspec": {
   "display_name": "Python 3 (ipykernel)",
   "language": "python",
   "name": "python3"
  },
  "language_info": {
   "codemirror_mode": {
    "name": "ipython",
    "version": 3
   },
   "file_extension": ".py",
   "mimetype": "text/x-python",
   "name": "python",
   "nbconvert_exporter": "python",
   "pygments_lexer": "ipython3",
   "version": "3.9.7"
  }
 },
 "nbformat": 4,
 "nbformat_minor": 5
}
