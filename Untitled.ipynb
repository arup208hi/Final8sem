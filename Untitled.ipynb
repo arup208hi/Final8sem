{
 "cells": [
  {
   "cell_type": "code",
   "execution_count": 1,
   "id": "416ae5c3",
   "metadata": {},
   "outputs": [
    {
     "name": "stdout",
     "output_type": "stream",
     "text": [
      "Requirement already satisfied: fpdf2 in c:\\users\\dasar\\anaconda3\\lib\\site-packages (2.6.1)\n",
      "Requirement already satisfied: fonttools>=4.34.0 in c:\\users\\dasar\\anaconda3\\lib\\site-packages (from fpdf2) (4.39.0)\n",
      "Requirement already satisfied: Pillow!=9.2.*,>=6.2.2 in c:\\users\\dasar\\anaconda3\\lib\\site-packages (from fpdf2) (8.4.0)\n",
      "Requirement already satisfied: defusedxml in c:\\users\\dasar\\anaconda3\\lib\\site-packages (from fpdf2) (0.7.1)\n",
      "Note: you may need to restart the kernel to use updated packages.\n"
     ]
    }
   ],
   "source": [
    "pip install fpdf2"
   ]
  }
 ],
 "metadata": {
  "kernelspec": {
   "display_name": "Python 3 (ipykernel)",
   "language": "python",
   "name": "python3"
  },
  "language_info": {
   "codemirror_mode": {
    "name": "ipython",
    "version": 3
   },
   "file_extension": ".py",
   "mimetype": "text/x-python",
   "name": "python",
   "nbconvert_exporter": "python",
   "pygments_lexer": "ipython3",
   "version": "3.9.7"
  }
 },
 "nbformat": 4,
 "nbformat_minor": 5
}
